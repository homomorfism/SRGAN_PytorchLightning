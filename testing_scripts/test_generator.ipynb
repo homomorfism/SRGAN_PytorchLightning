{
 "cells": [
  {
   "cell_type": "code",
   "execution_count": 1,
   "metadata": {
    "collapsed": true
   },
   "outputs": [],
   "source": [
    "\n",
    "import torch\n",
    "from torchsummary import summary\n",
    "from models.Generator import Generator\n",
    "\n",
    "from models.utils import GeneratorResBlock\n",
    "\n",
    "device = \"cpu\""
   ]
  },
  {
   "cell_type": "code",
   "execution_count": 2,
   "outputs": [
    {
     "name": "stdout",
     "output_type": "stream",
     "text": [
      "x shape=torch.Size([1, 64, 96, 96])\n",
      "output shape=torch.Size([1, 64, 96, 96])\n"
     ]
    }
   ],
   "source": [
    "\n",
    "genResBlock = GeneratorResBlock()\n",
    "\n",
    "x = torch.randn(size=(1, 64, 96, 96))\n",
    "print(f\"x shape={x.shape}\")\n",
    "\n",
    "output = genResBlock(x)\n",
    "\n",
    "print(f\"output shape={output.shape}\")\n",
    "\n",
    "assert x.shape == output.shape\n"
   ],
   "metadata": {
    "collapsed": false,
    "pycharm": {
     "name": "#%%\n"
    }
   }
  },
  {
   "cell_type": "code",
   "execution_count": 3,
   "outputs": [
    {
     "name": "stderr",
     "output_type": "stream",
     "text": [
      "/home/shamil/PycharmProjects/ML_Foundations_course/venv/lib/python3.8/site-packages/torch/cuda/__init__.py:52: UserWarning: CUDA initialization: Found no NVIDIA driver on your system. Please check that you have an NVIDIA GPU and installed a driver from http://www.nvidia.com/Download/index.aspx (Triggered internally at  /pytorch/c10/cuda/CUDAFunctions.cpp:100.)\n",
      "  return torch._C._cuda_getDeviceCount() > 0\n"
     ]
    },
    {
     "name": "stdout",
     "output_type": "stream",
     "text": [
      "----------------------------------------------------------------\n",
      "        Layer (type)               Output Shape         Param #\n",
      "================================================================\n",
      "            Conv2d-1            [4, 64, 96, 96]          15,616\n",
      "             PReLU-2            [4, 64, 96, 96]               1\n",
      "            Conv2d-3            [4, 64, 96, 96]          36,928\n",
      "       BatchNorm2d-4            [4, 64, 96, 96]             128\n",
      "             PReLU-5            [4, 64, 96, 96]               1\n",
      "            Conv2d-6            [4, 64, 96, 96]          36,928\n",
      "       BatchNorm2d-7            [4, 64, 96, 96]             128\n",
      " GeneratorResBlock-8            [4, 64, 96, 96]               0\n",
      "            Conv2d-9            [4, 64, 96, 96]          36,928\n",
      "      BatchNorm2d-10            [4, 64, 96, 96]             128\n",
      "            PReLU-11            [4, 64, 96, 96]               1\n",
      "           Conv2d-12            [4, 64, 96, 96]          36,928\n",
      "      BatchNorm2d-13            [4, 64, 96, 96]             128\n",
      "GeneratorResBlock-14            [4, 64, 96, 96]               0\n",
      "           Conv2d-15            [4, 64, 96, 96]          36,928\n",
      "      BatchNorm2d-16            [4, 64, 96, 96]             128\n",
      "            PReLU-17            [4, 64, 96, 96]               1\n",
      "           Conv2d-18            [4, 64, 96, 96]          36,928\n",
      "      BatchNorm2d-19            [4, 64, 96, 96]             128\n",
      "GeneratorResBlock-20            [4, 64, 96, 96]               0\n",
      "           Conv2d-21            [4, 64, 96, 96]          36,928\n",
      "      BatchNorm2d-22            [4, 64, 96, 96]             128\n",
      "            PReLU-23            [4, 64, 96, 96]               1\n",
      "           Conv2d-24            [4, 64, 96, 96]          36,928\n",
      "      BatchNorm2d-25            [4, 64, 96, 96]             128\n",
      "GeneratorResBlock-26            [4, 64, 96, 96]               0\n",
      "           Conv2d-27            [4, 64, 96, 96]          36,928\n",
      "      BatchNorm2d-28            [4, 64, 96, 96]             128\n",
      "            PReLU-29            [4, 64, 96, 96]               1\n",
      "           Conv2d-30            [4, 64, 96, 96]          36,928\n",
      "      BatchNorm2d-31            [4, 64, 96, 96]             128\n",
      "GeneratorResBlock-32            [4, 64, 96, 96]               0\n",
      "           Conv2d-33            [4, 64, 96, 96]          36,928\n",
      "      BatchNorm2d-34            [4, 64, 96, 96]             128\n",
      "            PReLU-35            [4, 64, 96, 96]               1\n",
      "           Conv2d-36            [4, 64, 96, 96]          36,928\n",
      "      BatchNorm2d-37            [4, 64, 96, 96]             128\n",
      "GeneratorResBlock-38            [4, 64, 96, 96]               0\n",
      "           Conv2d-39            [4, 64, 96, 96]          36,928\n",
      "      BatchNorm2d-40            [4, 64, 96, 96]             128\n",
      "            PReLU-41            [4, 64, 96, 96]               1\n",
      "           Conv2d-42            [4, 64, 96, 96]          36,928\n",
      "      BatchNorm2d-43            [4, 64, 96, 96]             128\n",
      "GeneratorResBlock-44            [4, 64, 96, 96]               0\n",
      "           Conv2d-45            [4, 64, 96, 96]          36,928\n",
      "      BatchNorm2d-46            [4, 64, 96, 96]             128\n",
      "            PReLU-47            [4, 64, 96, 96]               1\n",
      "           Conv2d-48            [4, 64, 96, 96]          36,928\n",
      "      BatchNorm2d-49            [4, 64, 96, 96]             128\n",
      "GeneratorResBlock-50            [4, 64, 96, 96]               0\n",
      "           Conv2d-51            [4, 64, 96, 96]          36,928\n",
      "      BatchNorm2d-52            [4, 64, 96, 96]             128\n",
      "            PReLU-53            [4, 64, 96, 96]               1\n",
      "           Conv2d-54            [4, 64, 96, 96]          36,928\n",
      "      BatchNorm2d-55            [4, 64, 96, 96]             128\n",
      "GeneratorResBlock-56            [4, 64, 96, 96]               0\n",
      "           Conv2d-57            [4, 64, 96, 96]          36,928\n",
      "      BatchNorm2d-58            [4, 64, 96, 96]             128\n",
      "            PReLU-59            [4, 64, 96, 96]               1\n",
      "           Conv2d-60            [4, 64, 96, 96]          36,928\n",
      "      BatchNorm2d-61            [4, 64, 96, 96]             128\n",
      "GeneratorResBlock-62            [4, 64, 96, 96]               0\n",
      "           Conv2d-63            [4, 64, 96, 96]          36,928\n",
      "      BatchNorm2d-64            [4, 64, 96, 96]             128\n",
      "            PReLU-65            [4, 64, 96, 96]               1\n",
      "           Conv2d-66            [4, 64, 96, 96]          36,928\n",
      "      BatchNorm2d-67            [4, 64, 96, 96]             128\n",
      "GeneratorResBlock-68            [4, 64, 96, 96]               0\n",
      "           Conv2d-69            [4, 64, 96, 96]          36,928\n",
      "      BatchNorm2d-70            [4, 64, 96, 96]             128\n",
      "            PReLU-71            [4, 64, 96, 96]               1\n",
      "           Conv2d-72            [4, 64, 96, 96]          36,928\n",
      "      BatchNorm2d-73            [4, 64, 96, 96]             128\n",
      "GeneratorResBlock-74            [4, 64, 96, 96]               0\n",
      "           Conv2d-75            [4, 64, 96, 96]          36,928\n",
      "      BatchNorm2d-76            [4, 64, 96, 96]             128\n",
      "            PReLU-77            [4, 64, 96, 96]               1\n",
      "           Conv2d-78            [4, 64, 96, 96]          36,928\n",
      "      BatchNorm2d-79            [4, 64, 96, 96]             128\n",
      "GeneratorResBlock-80            [4, 64, 96, 96]               0\n",
      "           Conv2d-81            [4, 64, 96, 96]          36,928\n",
      "      BatchNorm2d-82            [4, 64, 96, 96]             128\n",
      "            PReLU-83            [4, 64, 96, 96]               1\n",
      "           Conv2d-84            [4, 64, 96, 96]          36,928\n",
      "      BatchNorm2d-85            [4, 64, 96, 96]             128\n",
      "GeneratorResBlock-86            [4, 64, 96, 96]               0\n",
      "           Conv2d-87            [4, 64, 96, 96]          36,928\n",
      "      BatchNorm2d-88            [4, 64, 96, 96]             128\n",
      "            PReLU-89            [4, 64, 96, 96]               1\n",
      "           Conv2d-90            [4, 64, 96, 96]          36,928\n",
      "      BatchNorm2d-91            [4, 64, 96, 96]             128\n",
      "GeneratorResBlock-92            [4, 64, 96, 96]               0\n",
      "           Conv2d-93            [4, 64, 96, 96]          36,928\n",
      "      BatchNorm2d-94            [4, 64, 96, 96]             128\n",
      "            PReLU-95            [4, 64, 96, 96]               1\n",
      "           Conv2d-96            [4, 64, 96, 96]          36,928\n",
      "      BatchNorm2d-97            [4, 64, 96, 96]             128\n",
      "GeneratorResBlock-98            [4, 64, 96, 96]               0\n",
      "           Conv2d-99            [4, 64, 96, 96]          36,928\n",
      "     BatchNorm2d-100            [4, 64, 96, 96]             128\n",
      "          Conv2d-101           [4, 256, 96, 96]         147,712\n",
      "    PixelShuffle-102          [4, 64, 192, 192]               0\n",
      "           PReLU-103          [4, 64, 192, 192]               1\n",
      "          Conv2d-104         [4, 256, 192, 192]         147,712\n",
      "    PixelShuffle-105          [4, 64, 384, 384]               0\n",
      "           PReLU-106          [4, 64, 384, 384]               1\n",
      "          Conv2d-107           [4, 3, 384, 384]          15,555\n",
      "================================================================\n",
      "Total params: 1,549,462\n",
      "Trainable params: 1,549,462\n",
      "Non-trainable params: 0\n",
      "----------------------------------------------------------------\n",
      "Input size (MB): 0.42\n",
      "Forward/backward pass size (MB): 2893.50\n",
      "Params size (MB): 5.91\n",
      "Estimated Total Size (MB): 2899.83\n",
      "----------------------------------------------------------------\n"
     ]
    }
   ],
   "source": [
    "generator = Generator(num_res_blocks=16).to(device)\n",
    "\n",
    "summary(generator, (3, 96, 96), batch_size=4)\n",
    "\n"
   ],
   "metadata": {
    "collapsed": false,
    "pycharm": {
     "name": "#%%\n"
    }
   }
  }
 ],
 "metadata": {
  "kernelspec": {
   "display_name": "Python 3",
   "language": "python",
   "name": "python3"
  },
  "language_info": {
   "codemirror_mode": {
    "name": "ipython",
    "version": 2
   },
   "file_extension": ".py",
   "mimetype": "text/x-python",
   "name": "python",
   "nbconvert_exporter": "python",
   "pygments_lexer": "ipython2",
   "version": "2.7.6"
  }
 },
 "nbformat": 4,
 "nbformat_minor": 0
}