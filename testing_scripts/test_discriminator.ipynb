{
 "cells": [
  {
   "cell_type": "code",
   "execution_count": 1,
   "metadata": {
    "collapsed": true
   },
   "outputs": [],
   "source": [
    "from torchsummary import summary\n",
    "\n",
    "import torch\n",
    "from models.Discriminator import Discriminator\n",
    "\n"
   ]
  },
  {
   "cell_type": "code",
   "execution_count": 2,
   "outputs": [
    {
     "name": "stderr",
     "output_type": "stream",
     "text": [
      "/home/shamil/PycharmProjects/SRGAN/venv/lib/python3.8/site-packages/torch/cuda/__init__.py:52: UserWarning: CUDA initialization: Found no NVIDIA driver on your system. Please check that you have an NVIDIA GPU and installed a driver from http://www.nvidia.com/Download/index.aspx (Triggered internally at  /pytorch/c10/cuda/CUDAFunctions.cpp:100.)\n",
      "  return torch._C._cuda_getDeviceCount() > 0\n"
     ]
    },
    {
     "name": "stdout",
     "output_type": "stream",
     "text": [
      "----------------------------------------------------------------\n",
      "        Layer (type)               Output Shape         Param #\n",
      "================================================================\n",
      "            Conv2d-1          [4, 64, 384, 384]           1,792\n",
      "         LeakyReLU-2          [4, 64, 384, 384]               0\n",
      "            Conv2d-3          [4, 64, 192, 192]          36,928\n",
      "       BatchNorm2d-4          [4, 64, 192, 192]             128\n",
      "         LeakyReLU-5          [4, 64, 192, 192]               0\n",
      "DiscriminatorResBlock-6          [4, 64, 192, 192]               0\n",
      "            Conv2d-7         [4, 128, 192, 192]          73,856\n",
      "       BatchNorm2d-8         [4, 128, 192, 192]             256\n",
      "         LeakyReLU-9         [4, 128, 192, 192]               0\n",
      "DiscriminatorResBlock-10         [4, 128, 192, 192]               0\n",
      "           Conv2d-11           [4, 128, 96, 96]         147,584\n",
      "      BatchNorm2d-12           [4, 128, 96, 96]             256\n",
      "        LeakyReLU-13           [4, 128, 96, 96]               0\n",
      "DiscriminatorResBlock-14           [4, 128, 96, 96]               0\n",
      "           Conv2d-15           [4, 256, 96, 96]         295,168\n",
      "      BatchNorm2d-16           [4, 256, 96, 96]             512\n",
      "        LeakyReLU-17           [4, 256, 96, 96]               0\n",
      "DiscriminatorResBlock-18           [4, 256, 96, 96]               0\n",
      "           Conv2d-19           [4, 256, 48, 48]         590,080\n",
      "      BatchNorm2d-20           [4, 256, 48, 48]             512\n",
      "        LeakyReLU-21           [4, 256, 48, 48]               0\n",
      "DiscriminatorResBlock-22           [4, 256, 48, 48]               0\n",
      "           Conv2d-23           [4, 512, 48, 48]       1,180,160\n",
      "      BatchNorm2d-24           [4, 512, 48, 48]           1,024\n",
      "        LeakyReLU-25           [4, 512, 48, 48]               0\n",
      "DiscriminatorResBlock-26           [4, 512, 48, 48]               0\n",
      "           Conv2d-27           [4, 512, 24, 24]       2,359,808\n",
      "      BatchNorm2d-28           [4, 512, 24, 24]           1,024\n",
      "        LeakyReLU-29           [4, 512, 24, 24]               0\n",
      "DiscriminatorResBlock-30           [4, 512, 24, 24]               0\n",
      "AdaptiveAvgPool2d-31             [4, 512, 1, 1]               0\n",
      "           Conv2d-32            [4, 1024, 1, 1]         525,312\n",
      "        LeakyReLU-33            [4, 1024, 1, 1]               0\n",
      "           Conv2d-34               [4, 1, 1, 1]           1,025\n",
      "================================================================\n",
      "Total params: 5,215,425\n",
      "Trainable params: 5,215,425\n",
      "Non-trainable params: 0\n",
      "----------------------------------------------------------------\n",
      "Input size (MB): 6.75\n",
      "Forward/backward pass size (MB): 2124.08\n",
      "Params size (MB): 19.90\n",
      "Estimated Total Size (MB): 2150.72\n",
      "----------------------------------------------------------------\n"
     ]
    }
   ],
   "source": [
    "discriminator = Discriminator()\n",
    "\n",
    "summary(discriminator, input_size=(3, 384, 384), batch_size=4)"
   ],
   "metadata": {
    "collapsed": false,
    "pycharm": {
     "name": "#%%\n"
    }
   }
  }
 ],
 "metadata": {
  "kernelspec": {
   "display_name": "Python 3",
   "language": "python",
   "name": "python3"
  },
  "language_info": {
   "codemirror_mode": {
    "name": "ipython",
    "version": 2
   },
   "file_extension": ".py",
   "mimetype": "text/x-python",
   "name": "python",
   "nbconvert_exporter": "python",
   "pygments_lexer": "ipython2",
   "version": "2.7.6"
  }
 },
 "nbformat": 4,
 "nbformat_minor": 0
}